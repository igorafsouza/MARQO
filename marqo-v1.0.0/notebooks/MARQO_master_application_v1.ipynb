{
 "cells": [
  {
   "cell_type": "code",
   "execution_count": 1,
   "id": "1da73e7a",
   "metadata": {},
   "outputs": [],
   "source": [
    "import warnings\n",
    "warnings.filterwarnings('ignore')\n",
    "\n",
    "from IPython.display import display, clear_output, Markdown\n",
    "from ipywidgets import ToggleButtons, HBox, VBox, interact_manual, Layout, interactive_output, Output\n",
    "\n",
    "\n",
    "class Application:\n",
    "    def __init__(self):\n",
    "        self.output = Output()\n",
    "        \n",
    "        \n",
    "    def select_option(self, option):\n",
    "        if option is not None:\n",
    "            if option == 'Launch':\n",
    "                self.start_qc()\n",
    "                \n",
    "            elif option == 'Review':\n",
    "                self.start_review()\n",
    "             \n",
    "    def start_qc(self):\n",
    "\n",
    "        with self.output:\n",
    "            from launch_application import Workflow\n",
    "\n",
    "            clear_output(wait=True)\n",
    "            Workflow().start()\n",
    "            \n",
    "            \n",
    "    def start_review(self):\n",
    "        from review_application import Workflow\n",
    "        \n",
    "        with self.output:\n",
    "            clear_output(wait=True)\n",
    "            Workflow().start()\n",
    "            \n",
    "        \n",
    "        "
   ]
  },
  {
   "cell_type": "markdown",
   "id": "3304b280",
   "metadata": {},
   "source": [
    "# <center> Multiplex-imaging Analysis, Registration, Quantification, and Overlaying (MARQO) Application\n",
    "\n",
    "\n",
    "\n",
    "<center>Kindly select one of the options below to launch your analysis or review previous analyses. You may perform additional downstream actions when reviewing your data.</center>\n",
    "\n"
   ]
  },
  {
   "cell_type": "code",
   "execution_count": null,
   "id": "9a1f6642",
   "metadata": {},
   "outputs": [],
   "source": [
    "options_button = ToggleButtons(\n",
    "    value=None,\n",
    "    options=['Launch','Review'],\n",
    "    disabled=False,\n",
    "    button_style='success', # 'success', 'info', 'warning', 'danger' or ''\n",
    "    tooltips=['Start sample analysis', 'Start review modules'],\n",
    "    style=dict(\n",
    "        button_width='200px',\n",
    "        font_weight='bold',\n",
    "))\n",
    "\n",
    "box_layout = Layout(display='flex', \n",
    "            flex_flow='row', \n",
    "            width='100%', \n",
    "            height='80px', \n",
    "            align_items='center', \n",
    "            justify_content='center')\n",
    "\n",
    "app = Application()\n",
    "\n",
    "ui = HBox([options_button], layout=box_layout)\n",
    "out = interactive_output(app.select_option, {'option': options_button})\n",
    "display(VBox([ui]))"
   ]
  },
  {
   "cell_type": "code",
   "execution_count": null,
   "id": "258fcb6a",
   "metadata": {},
   "outputs": [],
   "source": [
    "display(app.output)"
   ]
  }
 ],
 "metadata": {
  "kernelspec": {
   "display_name": "Python 3 (ipykernel)",
   "language": "python",
   "name": "python3"
  },
  "language_info": {
   "codemirror_mode": {
    "name": "ipython",
    "version": 3
   },
   "file_extension": ".py",
   "mimetype": "text/x-python",
   "name": "python",
   "nbconvert_exporter": "python",
   "pygments_lexer": "ipython3",
   "version": "3.8.10"
  }
 },
 "nbformat": 4,
 "nbformat_minor": 5
}
